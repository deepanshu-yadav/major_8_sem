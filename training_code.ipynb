{
 "cells": [
  {
   "cell_type": "markdown",
   "metadata": {},
   "source": [
    "<h1> Importing The Dependencies"
   ]
  },
  {
   "cell_type": "code",
   "execution_count": 1,
   "metadata": {
    "collapsed": false
   },
   "outputs": [
    {
     "name": "stderr",
     "output_type": "stream",
     "text": [
      "Using TensorFlow backend.\n"
     ]
    }
   ],
   "source": [
    "import numpy as np\n",
    "import os\n",
    "from keras.models import Sequential, Model\n",
    "from keras.layers import Dense, Input, merge\n",
    "from keras.layers import Reshape,LeakyReLU,ZeroPadding2D\n",
    "from keras.layers.core import Activation, Dropout\n",
    "from keras.layers.normalization import BatchNormalization\n",
    "from keras.layers.convolutional import UpSampling2D\n",
    "from keras.layers.convolutional import Convolution2D, MaxPooling2D, Deconvolution2D\n",
    "from keras.layers.core import Flatten\n",
    "from keras.layers import Input, merge, Convolution2D, MaxPooling2D, UpSampling2D\n",
    "from keras.optimizers import SGD, Adagrad\n",
    "from PIL import Image\n",
    "from keras import backend as K\n",
    "from keras.layers.normalization import BatchNormalization\n",
    "from keras.objectives import binary_crossentropy\n",
    "import tensorflow as tf\n",
    "#from tqdm import tqdm\n",
    "import scipy.misc as im\n",
    "K.set_image_dim_ordering('tf') \n",
    "IN_CH = 3"
   ]
  },
  {
   "cell_type": "code",
   "execution_count": 2,
   "metadata": {
    "collapsed": true
   },
   "outputs": [],
   "source": [
    "import numpy as np\n",
    "import glob, pickle\n",
    "import os, sys\n",
    "import argparse\n",
    "#import cv2\n",
    "from keras.models import Sequential, Model\n",
    "from keras.layers import Dense, Input, merge\n",
    "from keras.layers import Reshape\n",
    "from keras.layers.core import Activation, Dropout\n",
    "from keras.layers.normalization import BatchNormalization\n",
    "from keras.layers.convolutional import UpSampling2D\n",
    "from keras.layers.convolutional import Convolution2D, MaxPooling2D, Deconvolution2D\n",
    "from keras.layers.core import Flatten\n",
    "from keras.layers import Input, merge, Convolution2D, MaxPooling2D, UpSampling2D\n",
    "from keras.optimizers import SGD, Adagrad\n",
    "from PIL import Image\n",
    "from keras import backend as K\n",
    "from keras.layers.normalization import BatchNormalization\n",
    "import math\n",
    "K.set_image_dim_ordering('tf') \n",
    "\n",
    "img_rows = 256\n",
    "img_cols = 256\n",
    "SHAPE = 256\n",
    "BATCH = 4\n",
    "IN_CH = 3\n",
    "OUT_CH = 3\n",
    "LAMBDA = 100\n",
    "NF = 64 # number of filter\n",
    "BATCH_SIZE = 10\n"
   ]
  },
  {
   "cell_type": "markdown",
   "metadata": {},
   "source": [
    "<h1> Code for getting all the training images and splitting them into :\n",
    "<h2>  Input (Face)\n",
    "<h2>  Output(High level representation of face)"
   ]
  },
  {
   "cell_type": "code",
   "execution_count": null,
   "metadata": {
    "collapsed": true
   },
   "outputs": [],
   "source": [
    "def split_input(img,mode='AtoB'):\n",
    "    \"\"\"\n",
    "    img: an 512x256x3 image\n",
    "    :return: [input, output]\n",
    "    \"\"\"\n",
    "    input, output = img[:,:img_cols,:], img[:,img_cols:,:]\n",
    "\n",
    "    if mode == 'BtoA':\n",
    "        input, output = output, input\n",
    "    return [input, output]\n",
    "\n",
    "def get_data(datadir):\n",
    "    #datadir = args.data\n",
    "    # assume each image is 512x256 split to left and right\n",
    "    imgs = glob.glob(os.path.join(datadir, '*.jpg'))\n",
    "    data_X = np.zeros((len(imgs),img_rows,img_cols,3))\n",
    "    data_Y = np.zeros((len(imgs),img_rows,img_cols,3))\n",
    "    i = 0\n",
    "    for file in imgs:\n",
    "        #img = cv2.imread(file,cv2.IMREAD_COLOR)\n",
    "        img=Image.open(file)\n",
    "        img = img.resize((img_cols*2, img_rows), Image.LANCZOS)\n",
    "        \n",
    "        img = np.array(img)\n",
    "        #img = cv2.resize(img, (img_cols*2, img_rows)) \n",
    "        #print('{} {},{}'.format(i,np.shape(img)[0],np.shape(img)[1]))\n",
    "        \n",
    "\n",
    "        X, Y = split_input(img)\n",
    "\n",
    "        data_X[i,:,:,:] = X\n",
    "        data_Y[i,:,:,:] = Y\n",
    "        i = i+1\n",
    "    return data_X, data_Y"
   ]
  },
  {
   "cell_type": "markdown",
   "metadata": {},
   "source": [
    "<h1>Applying the above function\n",
    "<h2> data_x contains input image (to be fed into generator)\n",
    "<h2> data_y contains output image (generator image should be like this)"
   ]
  },
  {
   "cell_type": "code",
   "execution_count": 7,
   "metadata": {
    "collapsed": true
   },
   "outputs": [],
   "source": [
    "data_x,data_y=get_data('train')\n"
   ]
  },
  {
   "cell_type": "markdown",
   "metadata": {},
   "source": [
    "<h1> Dependencies (Some of them are only in keras 2.0 )"
   ]
  },
  {
   "cell_type": "code",
   "execution_count": 39,
   "metadata": {
    "collapsed": true
   },
   "outputs": [],
   "source": [
    "from keras.models import Model\n",
    "from keras.layers import Input\n",
    "from keras.layers.core import Activation, Dropout, Flatten, Dense\n",
    "from keras.layers.merge import Concatenate\n",
    "from keras.layers.convolutional import Conv2D, Conv2DTranspose\n",
    "from keras.layers.normalization import BatchNormalization\n",
    "from keras.layers.advanced_activations import LeakyReLU\n",
    "from keras.utils import plot_model"
   ]
  },
  {
   "cell_type": "markdown",
   "metadata": {},
   "source": [
    "<h1> Code for generator "
   ]
  },
  {
   "cell_type": "code",
   "execution_count": 40,
   "metadata": {
    "collapsed": true
   },
   "outputs": [],
   "source": [
    "def generator_model():\n",
    "    \n",
    "    input_tensor = Input(shape=(img_rows,img_cols,IN_CH)) # type: Input\n",
    "    output_ch = 3\n",
    "    filters=128\n",
    "    x =                       Conv2D(         filters*1, kernel_size=(4, 4), strides=(2, 2), padding=\"same\")( input_tensor )       ; e1 = x\n",
    "    x = BatchNormalization()( Conv2D(         filters*2, kernel_size=(4, 4), strides=(2, 2), padding=\"same\")( LeakyReLU(0.2)(x) ) ); e2 = x\n",
    "    x = BatchNormalization()( Conv2D(         filters*4, kernel_size=(4, 4), strides=(2, 2), padding=\"same\")( LeakyReLU(0.2)(x) ) ); e3 = x\n",
    "    x = BatchNormalization()( Conv2D(         filters*8, kernel_size=(4, 4), strides=(2, 2), padding=\"same\")( LeakyReLU(0.2)(x) ) ); e4 = x\n",
    "    x = BatchNormalization()( Conv2D(         filters*8, kernel_size=(4, 4), strides=(2, 2), padding=\"same\")( LeakyReLU(0.2)(x) ) ); e5 = x\n",
    "    x = BatchNormalization()( Conv2D(         filters*8, kernel_size=(4, 4), strides=(2, 2), padding=\"same\")( LeakyReLU(0.2)(x) ) ); e6 = x\n",
    "    x = BatchNormalization()( Conv2D(         filters*8, kernel_size=(4, 4), strides=(2, 2), padding=\"same\")( LeakyReLU(0.2)(x) ) ); e7 = x\n",
    "    x =                       Conv2D(         filters*8, kernel_size=(4, 4), strides=(2, 2), padding=\"same\")( LeakyReLU(0.2)(x) )  ; e8 = x\n",
    "    # dec\n",
    "    x = BatchNormalization()( Conv2DTranspose(filters*8, kernel_size=(4, 4), strides=(2, 2), padding=\"same\")( Activation(\"relu\")(x) ) ); x = Concatenate()([Dropout(0.5)(x), e7])\n",
    "    x = BatchNormalization()( Conv2DTranspose(filters*8, kernel_size=(4, 4), strides=(2, 2), padding=\"same\")( Activation(\"relu\")(x) ) ); x = Concatenate()([Dropout(0.5)(x), e6])\n",
    "    x = BatchNormalization()( Conv2DTranspose(filters*8, kernel_size=(4, 4), strides=(2, 2), padding=\"same\")( Activation(\"relu\")(x) ) ); x = Concatenate()([Dropout(0.5)(x), e5])\n",
    "    x = BatchNormalization()( Conv2DTranspose(filters*8, kernel_size=(4, 4), strides=(2, 2), padding=\"same\")( Activation(\"relu\")(x) ) ); x = Concatenate()([x, e4])\n",
    "    x = BatchNormalization()( Conv2DTranspose(filters*4, kernel_size=(4, 4), strides=(2, 2), padding=\"same\")( Activation(\"relu\")(x) ) ); x = Concatenate()([x, e3])\n",
    "    x = BatchNormalization()( Conv2DTranspose(filters*2, kernel_size=(4, 4), strides=(2, 2), padding=\"same\")( Activation(\"relu\")(x) ) ); x = Concatenate()([x, e2])\n",
    "    x = BatchNormalization()( Conv2DTranspose(filters*1, kernel_size=(4, 4), strides=(2, 2), padding=\"same\")( Activation(\"relu\")(x) ) ); x = Concatenate()([x, e1])\n",
    "    x =                       Conv2DTranspose(output_ch, kernel_size=(4, 4), strides=(2, 2), padding=\"same\")( Activation(\"relu\")(x) )\n",
    "    \n",
    "    x = Activation(\"tanh\")(x)\n",
    "    \n",
    "    unet = Model(inputs=input_tensor, outputs=x)\n",
    "    \n",
    "    return unet"
   ]
  },
  {
   "cell_type": "markdown",
   "metadata": {},
   "source": [
    "<h1> Examining every layer of generator "
   ]
  },
  {
   "cell_type": "code",
   "execution_count": 41,
   "metadata": {
    "collapsed": false
   },
   "outputs": [
    {
     "name": "stdout",
     "output_type": "stream",
     "text": [
      "_________________________________________________________________\n",
      "Layer (type)                 Output Shape              Param #   \n",
      "=================================================================\n",
      "input_13 (InputLayer)        (None, 256, 256, 3)       0         \n",
      "_________________________________________________________________\n",
      "conv2d_53 (Conv2D)           (None, 128, 128, 128)     6272      \n",
      "_________________________________________________________________\n",
      "leaky_re_lu_45 (LeakyReLU)   (None, 128, 128, 128)     0         \n",
      "_________________________________________________________________\n",
      "conv2d_54 (Conv2D)           (None, 64, 64, 256)       524544    \n",
      "_________________________________________________________________\n",
      "batch_normalization_53 (Batc (None, 64, 64, 256)       1024      \n",
      "_________________________________________________________________\n",
      "leaky_re_lu_46 (LeakyReLU)   (None, 64, 64, 256)       0         \n",
      "_________________________________________________________________\n",
      "conv2d_55 (Conv2D)           (None, 32, 32, 512)       2097664   \n",
      "_________________________________________________________________\n",
      "batch_normalization_54 (Batc (None, 32, 32, 512)       2048      \n",
      "_________________________________________________________________\n",
      "leaky_re_lu_47 (LeakyReLU)   (None, 32, 32, 512)       0         \n",
      "_________________________________________________________________\n",
      "conv2d_56 (Conv2D)           (None, 16, 16, 1024)      8389632   \n",
      "_________________________________________________________________\n",
      "batch_normalization_55 (Batc (None, 16, 16, 1024)      4096      \n",
      "_________________________________________________________________\n",
      "leaky_re_lu_48 (LeakyReLU)   (None, 16, 16, 1024)      0         \n",
      "_________________________________________________________________\n",
      "conv2d_57 (Conv2D)           (None, 8, 8, 1024)        16778240  \n",
      "_________________________________________________________________\n",
      "batch_normalization_56 (Batc (None, 8, 8, 1024)        4096      \n",
      "_________________________________________________________________\n",
      "leaky_re_lu_49 (LeakyReLU)   (None, 8, 8, 1024)        0         \n",
      "_________________________________________________________________\n",
      "conv2d_58 (Conv2D)           (None, 4, 4, 1024)        16778240  \n",
      "_________________________________________________________________\n",
      "batch_normalization_57 (Batc (None, 4, 4, 1024)        4096      \n",
      "_________________________________________________________________\n",
      "leaky_re_lu_50 (LeakyReLU)   (None, 4, 4, 1024)        0         \n",
      "_________________________________________________________________\n",
      "conv2d_59 (Conv2D)           (None, 2, 2, 1024)        16778240  \n",
      "_________________________________________________________________\n",
      "batch_normalization_58 (Batc (None, 2, 2, 1024)        4096      \n",
      "_________________________________________________________________\n",
      "leaky_re_lu_51 (LeakyReLU)   (None, 2, 2, 1024)        0         \n",
      "_________________________________________________________________\n",
      "conv2d_60 (Conv2D)           (None, 1, 1, 1024)        16778240  \n",
      "_________________________________________________________________\n",
      "activation_37 (Activation)   (None, 1, 1, 1024)        0         \n",
      "_________________________________________________________________\n",
      "conv2d_transpose_33 (Conv2DT (None, 2, 2, 1024)        16778240  \n",
      "_________________________________________________________________\n",
      "batch_normalization_59 (Batc (None, 2, 2, 1024)        4096      \n",
      "_________________________________________________________________\n",
      "dropout_13 (Dropout)         (None, 2, 2, 1024)        0         \n",
      "_________________________________________________________________\n",
      "concatenate_33 (Concatenate) (None, 2, 2, 2048)        0         \n",
      "_________________________________________________________________\n",
      "activation_38 (Activation)   (None, 2, 2, 2048)        0         \n",
      "_________________________________________________________________\n",
      "conv2d_transpose_34 (Conv2DT (None, 4, 4, 1024)        33555456  \n",
      "_________________________________________________________________\n",
      "batch_normalization_60 (Batc (None, 4, 4, 1024)        4096      \n",
      "_________________________________________________________________\n",
      "dropout_14 (Dropout)         (None, 4, 4, 1024)        0         \n",
      "_________________________________________________________________\n",
      "concatenate_34 (Concatenate) (None, 4, 4, 2048)        0         \n",
      "_________________________________________________________________\n",
      "activation_39 (Activation)   (None, 4, 4, 2048)        0         \n",
      "_________________________________________________________________\n",
      "conv2d_transpose_35 (Conv2DT (None, 8, 8, 1024)        33555456  \n",
      "_________________________________________________________________\n",
      "batch_normalization_61 (Batc (None, 8, 8, 1024)        4096      \n",
      "_________________________________________________________________\n",
      "dropout_15 (Dropout)         (None, 8, 8, 1024)        0         \n",
      "_________________________________________________________________\n",
      "concatenate_35 (Concatenate) (None, 8, 8, 2048)        0         \n",
      "_________________________________________________________________\n",
      "activation_40 (Activation)   (None, 8, 8, 2048)        0         \n",
      "_________________________________________________________________\n",
      "conv2d_transpose_36 (Conv2DT (None, 16, 16, 1024)      33555456  \n",
      "_________________________________________________________________\n",
      "batch_normalization_62 (Batc (None, 16, 16, 1024)      4096      \n",
      "_________________________________________________________________\n",
      "concatenate_36 (Concatenate) (None, 16, 16, 2048)      0         \n",
      "_________________________________________________________________\n",
      "activation_41 (Activation)   (None, 16, 16, 2048)      0         \n",
      "_________________________________________________________________\n",
      "conv2d_transpose_37 (Conv2DT (None, 32, 32, 512)       16777728  \n",
      "_________________________________________________________________\n",
      "batch_normalization_63 (Batc (None, 32, 32, 512)       2048      \n",
      "_________________________________________________________________\n",
      "concatenate_37 (Concatenate) (None, 32, 32, 1024)      0         \n",
      "_________________________________________________________________\n",
      "activation_42 (Activation)   (None, 32, 32, 1024)      0         \n",
      "_________________________________________________________________\n",
      "conv2d_transpose_38 (Conv2DT (None, 64, 64, 256)       4194560   \n",
      "_________________________________________________________________\n",
      "batch_normalization_64 (Batc (None, 64, 64, 256)       1024      \n",
      "_________________________________________________________________\n",
      "concatenate_38 (Concatenate) (None, 64, 64, 512)       0         \n",
      "_________________________________________________________________\n",
      "activation_43 (Activation)   (None, 64, 64, 512)       0         \n",
      "_________________________________________________________________\n",
      "conv2d_transpose_39 (Conv2DT (None, 128, 128, 128)     1048704   \n",
      "_________________________________________________________________\n",
      "batch_normalization_65 (Batc (None, 128, 128, 128)     512       \n",
      "_________________________________________________________________\n",
      "concatenate_39 (Concatenate) (None, 128, 128, 256)     0         \n",
      "_________________________________________________________________\n",
      "activation_44 (Activation)   (None, 128, 128, 256)     0         \n",
      "_________________________________________________________________\n",
      "conv2d_transpose_40 (Conv2DT (None, 256, 256, 3)       12291     \n",
      "_________________________________________________________________\n",
      "activation_45 (Activation)   (None, 256, 256, 3)       0         \n",
      "=================================================================\n",
      "Total params: 217,648,387.0\n",
      "Trainable params: 217,628,675.0\n",
      "Non-trainable params: 19,712.0\n",
      "_________________________________________________________________\n"
     ]
    }
   ],
   "source": [
    "gx=generator_model()\n",
    "gx.summary()"
   ]
  },
  {
   "cell_type": "markdown",
   "metadata": {},
   "source": [
    "<h1>Code for discriminator"
   ]
  },
  {
   "cell_type": "code",
   "execution_count": 42,
   "metadata": {
    "collapsed": true
   },
   "outputs": [],
   "source": [
    "def discriminator_model():    \n",
    "    inputs = Input(shape=(img_cols,img_rows,IN_CH*2))\n",
    "    d = ZeroPadding2D(padding=(1,1))(inputs)\n",
    "    d = Conv2D(64, kernel_size=(4, 4), strides=(2, 2))(d)\n",
    "    d = LeakyReLU(alpha=0.2)(d)\n",
    "    \n",
    "    d = ZeroPadding2D(padding=(1,1))(d)\n",
    "    d = Conv2D(128, kernel_size=(4, 4), strides=(2, 2))(d)\n",
    "    d = LeakyReLU(alpha=0.2)(d)\n",
    "    \n",
    "    d = ZeroPadding2D(padding=(1,1))(d)\n",
    "    d = Conv2D(256, kernel_size=(4, 4), strides=(2, 2))(d)\n",
    "    d = LeakyReLU(alpha=0.2)(d)\n",
    "    \n",
    "    d = ZeroPadding2D(padding=(1,1))(d)\n",
    "    d = Convolution2D(512, kernel_size=(4, 4), strides=(1, 1))(d)\n",
    "    d = LeakyReLU(alpha=0.2)(d)\n",
    "    \n",
    "    d = ZeroPadding2D(padding=(1,1))(d)\n",
    "    d = Convolution2D(1, kernel_size=(4, 4), strides=(1, 1),activation='sigmoid')(d)\n",
    "    model = Model(inputs,d)\n",
    "    return model"
   ]
  },
  {
   "cell_type": "markdown",
   "metadata": {},
   "source": [
    "<h1> Examining every layer of discriminator"
   ]
  },
  {
   "cell_type": "code",
   "execution_count": 43,
   "metadata": {
    "collapsed": false
   },
   "outputs": [
    {
     "name": "stdout",
     "output_type": "stream",
     "text": [
      "_________________________________________________________________\n",
      "Layer (type)                 Output Shape              Param #   \n",
      "=================================================================\n",
      "input_14 (InputLayer)        (None, 256, 256, 6)       0         \n",
      "_________________________________________________________________\n",
      "zero_padding2d_21 (ZeroPaddi (None, 258, 258, 6)       0         \n",
      "_________________________________________________________________\n",
      "conv2d_61 (Conv2D)           (None, 128, 128, 64)      6208      \n",
      "_________________________________________________________________\n",
      "leaky_re_lu_52 (LeakyReLU)   (None, 128, 128, 64)      0         \n",
      "_________________________________________________________________\n",
      "zero_padding2d_22 (ZeroPaddi (None, 130, 130, 64)      0         \n",
      "_________________________________________________________________\n",
      "conv2d_62 (Conv2D)           (None, 64, 64, 128)       131200    \n",
      "_________________________________________________________________\n",
      "leaky_re_lu_53 (LeakyReLU)   (None, 64, 64, 128)       0         \n",
      "_________________________________________________________________\n",
      "zero_padding2d_23 (ZeroPaddi (None, 66, 66, 128)       0         \n",
      "_________________________________________________________________\n",
      "conv2d_63 (Conv2D)           (None, 32, 32, 256)       524544    \n",
      "_________________________________________________________________\n",
      "leaky_re_lu_54 (LeakyReLU)   (None, 32, 32, 256)       0         \n",
      "_________________________________________________________________\n",
      "zero_padding2d_24 (ZeroPaddi (None, 34, 34, 256)       0         \n",
      "_________________________________________________________________\n",
      "conv2d_64 (Conv2D)           (None, 31, 31, 512)       2097664   \n",
      "_________________________________________________________________\n",
      "leaky_re_lu_55 (LeakyReLU)   (None, 31, 31, 512)       0         \n",
      "_________________________________________________________________\n",
      "zero_padding2d_25 (ZeroPaddi (None, 33, 33, 512)       0         \n",
      "_________________________________________________________________\n",
      "conv2d_65 (Conv2D)           (None, 30, 30, 1)         8193      \n",
      "=================================================================\n",
      "Total params: 2,767,809.0\n",
      "Trainable params: 2,767,809.0\n",
      "Non-trainable params: 0.0\n",
      "_________________________________________________________________\n"
     ]
    }
   ],
   "source": [
    "dx=discriminator_model()\n",
    "dx.summary()"
   ]
  },
  {
   "cell_type": "markdown",
   "metadata": {},
   "source": [
    "<h1> Connecting them together \n",
    "<h2>(Actually this will be used to train the generator)"
   ]
  },
  {
   "cell_type": "code",
   "execution_count": 44,
   "metadata": {
    "collapsed": true
   },
   "outputs": [],
   "source": [
    "def generator_containing_discriminator(generator, discriminator):\n",
    "    inputs = Input((img_cols, img_rows,IN_CH))\n",
    "    x_generator = generator(inputs)\n",
    "    merged=Concatenate()([inputs, x_generator])\n",
    "    #merged = merge([inputs, x_generator], mode='concat',concat_axis=-1)\n",
    "    discriminator.trainable = False\n",
    "    x_discriminator = discriminator(merged)\n",
    "    \n",
    "    model = Model(inputs,[x_generator,x_discriminator])\n",
    "    \n",
    "    return model"
   ]
  },
  {
   "cell_type": "markdown",
   "metadata": {},
   "source": [
    "<h1> Examining the details behind the combination"
   ]
  },
  {
   "cell_type": "code",
   "execution_count": 45,
   "metadata": {
    "collapsed": false
   },
   "outputs": [
    {
     "name": "stdout",
     "output_type": "stream",
     "text": [
      "_________________________________________________________________\n",
      "Layer (type)                 Output Shape              Param #   \n",
      "=================================================================\n",
      "input_15 (InputLayer)        (None, 256, 256, 3)       0         \n",
      "_________________________________________________________________\n",
      "model_13 (Model)             (None, 256, 256, 3)       217648387 \n",
      "_________________________________________________________________\n",
      "concatenate_40 (Concatenate) (None, 256, 256, 6)       0         \n",
      "_________________________________________________________________\n",
      "model_14 (Model)             (None, 30, 30, 1)         2767809   \n",
      "=================================================================\n",
      "Total params: 220,416,196.0\n",
      "Trainable params: 220,396,484.0\n",
      "Non-trainable params: 19,712.0\n",
      "_________________________________________________________________\n"
     ]
    }
   ],
   "source": [
    "gcd=generator_containing_discriminator(gx,dx)\n",
    "gcd.summary()"
   ]
  },
  {
   "cell_type": "markdown",
   "metadata": {},
   "source": [
    "<h1> Loss for Discriminator\n",
    "<h2> (Binary cross entropy)"
   ]
  },
  {
   "cell_type": "code",
   "execution_count": 46,
   "metadata": {
    "collapsed": true
   },
   "outputs": [],
   "source": [
    "def discriminator_on_generator_loss(y_true,y_pred):\n",
    "    return K.mean(K.binary_crossentropy(y_pred,y_true), axis=(1,2,3))\n",
    "\n"
   ]
  },
  {
   "cell_type": "markdown",
   "metadata": {},
   "source": [
    "<h1> Loss for generator \n",
    "<h2> Simply a l1 loss"
   ]
  },
  {
   "cell_type": "code",
   "execution_count": null,
   "metadata": {
    "collapsed": true
   },
   "outputs": [],
   "source": [
    "def generator_l1_loss(y_true,y_pred):\n",
    "    return K.mean(K.abs(y_pred - y_true),axis=(1,2,3))"
   ]
  },
  {
   "cell_type": "markdown",
   "metadata": {},
   "source": [
    "<h1>  function for saving images at a particular epoch "
   ]
  },
  {
   "cell_type": "code",
   "execution_count": 47,
   "metadata": {
    "collapsed": true
   },
   "outputs": [],
   "source": [
    "def generate_pic(generator,target,filename):\n",
    "    pic = generator.predict(target)\n",
    "    pic=pic*127.5+127.5\n",
    "    pic = np.squeeze(pic,axis=0)\n",
    "    #target = np.squeeze(target,axis=0)\n",
    "    #im.imsave('target_%d_%d.png' % (e,n),target)\n",
    "    #filename='pic'+str(n)+'.png'\n",
    "    #gg=os.path.join(paths, filename)\n",
    "    #print('done')\n",
    "    im.imsave(filename,pic)\n"
   ]
  },
  {
   "cell_type": "markdown",
   "metadata": {
    "collapsed": true
   },
   "source": [
    "<h1> Training Code "
   ]
  },
  {
   "cell_type": "code",
   "execution_count": 52,
   "metadata": {
    "collapsed": true
   },
   "outputs": [],
   "source": [
    "def train(epochs,batchsize):\n",
    "    \n",
    "    \n",
    "    # Calling the above function for getting training data\n",
    "    target,pic=get_data('train')\n",
    "    \n",
    "    \n",
    "    # we should convert them into float before feeding into the model\n",
    "    pic = pic.astype('float32')\n",
    "    target = target.astype('float32')\n",
    "    \n",
    "    \n",
    "    # Again we should normalize it between [-1,1]\n",
    "    pic = (pic - 127.5) / 127.5\n",
    "    target = (target - 127.5) / 127.5\n",
    "    \n",
    "    # The number of batches in a particular epoch will be calculated as  \n",
    "    batchCount = int(pic.shape[0] / batchsize)\n",
    "    \n",
    "    \n",
    "    # printing the number of epochs,batch size ,batch per epoch \n",
    "    print('Epochs  ',epochs)\n",
    "    print('Batch_size   ',batchsize)\n",
    "    print('Batches per epoch    ',batchCount)\n",
    "    \n",
    "    \n",
    "    # This for applying the generator model on test set\n",
    "    # Note : It is only applied after every 10th epoch\n",
    "    target2,pic2=get_data('test')\n",
    "    \n",
    "    # Creating Generator Model \n",
    "    generator = generator_model()\n",
    "    \n",
    "    # Creating Discriminator Model\n",
    "    discriminator = discriminator_model()\n",
    "    \n",
    "    # Combining Both of them\n",
    "    gan = generator_containing_discriminator(generator,discriminator)\n",
    "    \n",
    "    # Assigning Loss and optimizer to Generator \n",
    "    generator.compile(loss=generator_l1_loss, optimizer='RMSprop')\n",
    "    \n",
    "    # Assigning Loss and optimizer to Their Combination \n",
    "    # Note 1:Every time this model is created discriminator weights are set to Non trainable\n",
    "    # Because that will be Not allowing the generator to learn or  simply unfair\n",
    "    \n",
    "    # Note 2 : since gan takes both of them as inputs there will also be cobination of losses \n",
    "    gan.compile(loss=[generator_l1_loss,discriminator_on_generator_loss] , optimizer='RMSprop')\n",
    "    \n",
    "    \n",
    "    # Now the weights can be set to trainable because its now discriminator's turn\n",
    "    discriminator.trainable = True\n",
    "    \n",
    "    # Assigning the discriminator its optimizer and loss\n",
    "    discriminator.compile(loss=discriminator_on_generator_loss, optimizer='RMSprop')\n",
    "    \n",
    "    \n",
    "    # This array records generator loss for every epoch \n",
    "    G_loss = []\n",
    "    \n",
    "    \n",
    "    # This array records discriminator loss for every epoch\n",
    "    D_loss = []\n",
    "    for e in range(1,epochs+1):\n",
    "        \n",
    "        # ( Helpful for keeping a track of current epoch    )\n",
    "        print('Epoch       {}',e)\n",
    "        \n",
    "        # inner loop (This loop is runs upto number of batches )\n",
    "        for nums in range(batchCount):\n",
    "            # Generate a random number (Output will be collection of m number of batches each having\n",
    "            #  batch size size n and n X m=t : t is number training examples  )\n",
    "            random_number = np.random.randint(1,pic.shape[0],size=batchsize)\n",
    "            \n",
    "            # this is a random batch of output\n",
    "            batch_pic = pic[random_number]\n",
    "            \n",
    "            # this is a random batch of input\n",
    "            batch_target = target[random_number]\n",
    "            \n",
    "            # replicate this using tile because we need  a pair to supply to the discriminator \n",
    "            batch_target2 = np.tile(batch_target,(2,1,1,1))\n",
    "            \n",
    "            # One Batch will be for generated images (fake)\n",
    "            # their probablity will be   zero\n",
    "            y_dis = np.zeros((2*batchsize,30,30,1))\n",
    "            \n",
    "            # the other half will be for real hence all one \n",
    "            # note : this is ideal output not the actual output\n",
    "            # this is used to calculate the value of loss\n",
    "            y_dis[:batchsize] = 1.0\n",
    "            \n",
    "            \n",
    "            # generate for all the batch of input images\n",
    "            generated_pic = generator.predict(batch_target)\n",
    "            \n",
    "            \n",
    "            #Concatenation default along first dimension\n",
    "            concat_pic = np.concatenate((batch_pic,generated_pic))\n",
    "            # this results in input images and the corressponding generated images\n",
    "            \n",
    "            # We need to feed two things to discriminator \n",
    "            #  1. Concat_pic calculated from above (discrinator should give thm low  scores)\n",
    "            # 2. batch_target 2 \n",
    "            # Note We are feeding pair wise ie. generated->input and real->input\n",
    "            # we will concate nate along third dimension\n",
    "            dis_input = np.concatenate((concat_pic,batch_target2),axis=-1)\n",
    "            \n",
    "            # to calculate loss we feed it to discriminator \n",
    "            # y_dis will be used to calculate the loss \n",
    "            dloss = discriminator.train_on_batch(dis_input,y_dis)\n",
    "            \n",
    "            \n",
    "            # again taking a random batch \n",
    "            random_number = np.random.randint(1,pic.shape[0],size=batchsize)            \n",
    "            train_target = target[random_number]\n",
    "            batch_pic = pic[random_number]\n",
    "            \n",
    "            \n",
    "            y_gener = np.ones((batchsize,30,30,1))\n",
    "            \n",
    "            # Discrinator will not be trained here  thats unfair\n",
    "            discriminator.trainable = False\n",
    "            \n",
    "            # Now training for generator \n",
    "            gloss = gan.train_on_batch(train_target,[batch_pic,y_gener])\n",
    "            \n",
    "            # now we can set it to true for the next batch\n",
    "            discriminator.trainable = True\n",
    "        if e%10==0:\n",
    "            # Code for results of particular epoch \n",
    "            paths = 'images'+str(e)\n",
    "            if os.path.isdir(paths)==False:\n",
    "                os.mkdir(paths)\n",
    "            for k in range(pic2.shape[0]):\n",
    "                filename='pic'+str(k)+'.png'\n",
    "                gg=os.path.join(paths, filename)\n",
    "                generate_pic(generator,target2[k:k+1],gg) \n",
    "                \n",
    "        # this particular epoch is over save the losses\n",
    "        G_loss.append(gloss)\n",
    "        D_loss.append(dloss)\n",
    "        \n",
    "        # save the final model if this is the last epoch\n",
    "        if e % epochs == 0:\n",
    "            #generator.save('g%d.h5' % e)\n",
    "            generator.save_weights('generator', True)\n",
    "            discriminator.save_weights('discriminator', True)\n",
    "            gan.save_weights('gan', True)\n",
    "            \n",
    "    # Training is over saving losses to numpy file\n",
    "    D_loss = np.array(D_loss)\n",
    "    G_loss = np.array(G_loss)\n",
    "    np.save('dloss.npy',D_loss)\n",
    "    np.save('gloss.npy',G_loss)"
   ]
  },
  {
   "cell_type": "markdown",
   "metadata": {},
   "source": [
    "<h1> Calling the train function  "
   ]
  },
  {
   "cell_type": "code",
   "execution_count": null,
   "metadata": {
    "collapsed": true
   },
   "outputs": [],
   "source": [
    "train(150,10)"
   ]
  },
  {
   "cell_type": "markdown",
   "metadata": {},
   "source": [
    "<h1> Plotting generator loss"
   ]
  },
  {
   "cell_type": "code",
   "execution_count": 4,
   "metadata": {
    "collapsed": false
   },
   "outputs": [
    {
     "data": {
      "image/png": "[encoded data removed]",
      "text/plain": [
       "<matplotlib.figure.Figure at 0x2219446cdd8>"
      ]
     },
     "metadata": {},
     "output_type": "display_data"
    }
   ],
   "source": [
    "\n",
    "import numpy as np\n",
    "G=np.load('gloss.npy')\n",
    "#D\n",
    "import matplotlib.pyplot as plt\n",
    "% matplotlib inline \n",
    "plt.plot(G[:,0])\n",
    "plt.xlabel('Epochs',fontsize=16)\n",
    "plt.ylabel('Loss',fontsize=16)\n",
    "plt.title('Generator loss',fontsize=24)\n",
    "plt.show()"
   ]
  },
  {
   "cell_type": "markdown",
   "metadata": {},
   "source": [
    "<h1>Plotting Discriminator Loss"
   ]
  },
  {
   "cell_type": "code",
   "execution_count": 5,
   "metadata": {
    "collapsed": false
   },
   "outputs": [
    {
     "data": {
      "image/png": "[encoded data removed]",
      "text/plain": [
       "<matplotlib.figure.Figure at 0x22194a6d710>"
      ]
     },
     "metadata": {},
     "output_type": "display_data"
    }
   ],
   "source": [
    "import numpy as np\n",
    "G=np.load('dloss.npy')\n",
    "#D\n",
    "import matplotlib.pyplot as plt\n",
    "% matplotlib inline \n",
    "plt.plot(G[:])\n",
    "plt.xlabel('Epochs',fontsize=16)\n",
    "plt.ylabel('Loss',fontsize=16)\n",
    "plt.title('Discriminator loss',fontsize=24)\n",
    "plt.show()"
   ]
  },
  {
   "cell_type": "code",
   "execution_count": null,
   "metadata": {
    "collapsed": true
   },
   "outputs": [],
   "source": []
  }
 ],
 "metadata": {
  "anaconda-cloud": {},
  "kernelspec": {
   "display_name": "Python [Root]",
   "language": "python",
   "name": "Python [Root]"
  },
  "language_info": {
   "codemirror_mode": {
    "name": "ipython",
    "version": 3
   },
   "file_extension": ".py",
   "mimetype": "text/x-python",
   "name": "python",
   "nbconvert_exporter": "python",
   "pygments_lexer": "ipython3",
   "version": "3.5.2"
  }
 },
 "nbformat": 4,
 "nbformat_minor": 2
}
